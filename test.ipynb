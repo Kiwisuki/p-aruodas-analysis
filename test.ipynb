{
 "cells": [
  {
   "cell_type": "code",
   "execution_count": 2,
   "metadata": {},
   "outputs": [
    {
     "name": "stderr",
     "output_type": "stream",
     "text": [
      "ERROR:root:Exception in extract_heating_est: 'NoneType' object has no attribute 'text'\n"
     ]
    }
   ],
   "source": [
    "from scraping_tools import scrape_property\n",
    "from parsing_tools import preprocess_property\n",
    "from db_tools import save_property\n",
    "url = 'https://www.aruodas.lt/butai-vilniuje-virsuliskese-virsilu-g-vienas-paskutiniu-kambario-butu-1-3325021/'\n",
    "property = scrape_property(url, save_html=False)\n",
    "property = preprocess_property(property)\n",
    "\n",
    "save_property(property, 'butai')"
   ]
  }
 ],
 "metadata": {
  "kernelspec": {
   "display_name": "aruodas",
   "language": "python",
   "name": "python3"
  },
  "language_info": {
   "codemirror_mode": {
    "name": "ipython",
    "version": 3
   },
   "file_extension": ".py",
   "mimetype": "text/x-python",
   "name": "python",
   "nbconvert_exporter": "python",
   "pygments_lexer": "ipython3",
   "version": "3.8.16"
  },
  "orig_nbformat": 4
 },
 "nbformat": 4,
 "nbformat_minor": 2
}
