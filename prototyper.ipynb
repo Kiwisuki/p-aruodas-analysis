{
 "cells": [
  {
   "cell_type": "code",
   "execution_count": 1,
   "metadata": {},
   "outputs": [],
   "source": [
    "import undetected_chromedriver as uc\n",
    "import re\n",
    "from datetime import datetime\n",
    "from lxml import html"
   ]
  },
  {
   "cell_type": "code",
   "execution_count": 2,
   "metadata": {},
   "outputs": [],
   "source": [
    "from scraping_tools import get_html, scrape_property\n",
    "from parsing_tools import extract_thumbs"
   ]
  },
  {
   "cell_type": "code",
   "execution_count": 3,
   "metadata": {},
   "outputs": [],
   "source": [
    "urls = ['https://www.aruodas.lt/butai-vilniuje-antakalnyje-p-vileisio-g-naujas-projektas-antakalnyje-vileisio-1-3253985/',\n",
    "    'https://www.aruodas.lt/butai-kaune-dainavoje-partizanu-g-parduodamas-jaukus-kambariu-butas-dainavoje-1-3326353/'\n",
    "]\n",
    "\n",
    "properties = []\n",
    "\n",
    "for url in urls:\n",
    "    properties.append(scrape_property(url))"
   ]
  },
  {
   "cell_type": "code",
   "execution_count": 4,
   "metadata": {},
   "outputs": [
    {
     "data": {
      "text/plain": [
       "[{'Price': '251 200 €',\n",
       "  'Address': 'Vilnius, Antakalnis, P. Vileišio g.',\n",
       "  'Phone': '',\n",
       "  'Broker': True,\n",
       "  'Coordinates': (54.712566, 25.312947),\n",
       "  'Reserved': '',\n",
       "  'Date_scraped': '21/05/2023 13:29:42',\n",
       "  'Description': '',\n",
       "  'Misc': ['Nauja kanalizacija',\n",
       "   'Nauja elektros instaliacija',\n",
       "   'Sandėliukas',\n",
       "   'Balkonas',\n",
       "   'Vieta automobiliui',\n",
       "   'Šarvuotos durys',\n",
       "   'Kodinė laiptinės spyna',\n",
       "   'Vaizdo kameros'],\n",
       "  'Photos': ['https://aruodas-img.dgn.lt/object_62_106189723/vilnius-antakalnis-p-vileisio-g-2.jpg',\n",
       "   'https://aruodas-img.dgn.lt/object_62_106189721/vilnius-antakalnis-p-vileisio-g-2.jpg',\n",
       "   'https://aruodas-img.dgn.lt/object_62_106189717/vilnius-antakalnis-p-vileisio-g-2.jpg',\n",
       "   'https://aruodas-img.dgn.lt/object_62_106189017/vilnius-antakalnis-p-vileisio-g-2.jpg',\n",
       "   'https://aruodas-img.dgn.lt/object_62_106188985/vilnius-antakalnis-p-vileisio-g-2.jpg',\n",
       "   'https://aruodas-img.dgn.lt/object_62_106189041/vilnius-antakalnis-p-vileisio-g-2.jpg',\n",
       "   'https://aruodas-img.dgn.lt/object_62_106189035/vilnius-antakalnis-p-vileisio-g-2.jpg',\n",
       "   'https://aruodas-img.dgn.lt/object_62_106188993/vilnius-antakalnis-p-vileisio-g-2.jpg',\n",
       "   'https://aruodas-img.dgn.lt/object_62_106189001/vilnius-antakalnis-p-vileisio-g-2.jpg',\n",
       "   'https://aruodas-img.dgn.lt/object_62_106189027/vilnius-antakalnis-p-vileisio-g-2.jpg',\n",
       "   'https://aruodas-img.dgn.lt/object_62_106189007/vilnius-antakalnis-p-vileisio-g-2.jpg',\n",
       "   'https://aruodas-img.dgn.lt/object_62_106189719/vilnius-antakalnis-p-vileisio-g-2.jpg'],\n",
       "  'Namo_numeris': '27A',\n",
       "  'Plotas': '51,39 m²',\n",
       "  'Kambarių_sk.': '2',\n",
       "  'Aukštas': '1',\n",
       "  'Aukštų_sk.': '5',\n",
       "  'Metai': '2024',\n",
       "  'Pastato_tipas': 'Mūrinis',\n",
       "  'Šildymas': 'Centrinis kolektorinis',\n",
       "  'Įrengimas': 'Dalinė apdaila',\n",
       "  'Pastato_energijos_suvartojimo_klasė': 'A+',\n",
       "  'Nuoroda': 'www.aruodas.lt/1-3253985'},\n",
       " {'Price': '63 900 €',\n",
       "  'Address': 'Kaunas, Dainava, Partizanų g.',\n",
       "  'Phone': '+370 627 29970',\n",
       "  'Broker': True,\n",
       "  'Coordinates': (54.925132, 23.973677),\n",
       "  'Reserved': '',\n",
       "  'Date_scraped': '21/05/2023 13:29:47',\n",
       "  'Description': '',\n",
       "  'Misc': ['Nauja kanalizacija',\n",
       "   'Kabelinė televizija',\n",
       "   'Balkonas',\n",
       "   'Rūsys',\n",
       "   'Su baldais',\n",
       "   'Šaldytuvas',\n",
       "   'Virtuvės komplektas',\n",
       "   'Viryklė',\n",
       "   'Vonia',\n",
       "   'Kodinė laiptinės spyna'],\n",
       "  'Photos': ['https://aruodas-img.dgn.lt/object_62_110445631/kaunas-dainava-partizanu-g-2-kambariu-butas.jpg',\n",
       "   'https://aruodas-img.dgn.lt/object_62_110445651/kaunas-dainava-partizanu-g-2-kambariu-butas.jpg',\n",
       "   'https://aruodas-img.dgn.lt/object_62_110445641/kaunas-dainava-partizanu-g-2-kambariu-butas.jpg',\n",
       "   'https://aruodas-img.dgn.lt/object_62_110445639/kaunas-dainava-partizanu-g-2-kambariu-butas.jpg',\n",
       "   'https://aruodas-img.dgn.lt/object_62_110445653/kaunas-dainava-partizanu-g-2-kambariu-butas.jpg',\n",
       "   'https://aruodas-img.dgn.lt/object_62_110445637/kaunas-dainava-partizanu-g-2-kambariu-butas.jpg',\n",
       "   'https://aruodas-img.dgn.lt/object_62_110445629/kaunas-dainava-partizanu-g-2-kambariu-butas.jpg',\n",
       "   'https://aruodas-img.dgn.lt/object_62_110445655/kaunas-dainava-partizanu-g-2-kambariu-butas.jpg',\n",
       "   'https://aruodas-img.dgn.lt/object_62_110445643/kaunas-dainava-partizanu-g-2-kambariu-butas.jpg',\n",
       "   'https://aruodas-img.dgn.lt/object_62_110445645/kaunas-dainava-partizanu-g-2-kambariu-butas.jpg',\n",
       "   'https://aruodas-img.dgn.lt/object_62_110445647/kaunas-dainava-partizanu-g-2-kambariu-butas.jpg',\n",
       "   'https://aruodas-img.dgn.lt/object_62_110445635/kaunas-dainava-partizanu-g-2-kambariu-butas.jpg',\n",
       "   'https://aruodas-img.dgn.lt/object_62_110445649/kaunas-dainava-partizanu-g-2-kambariu-butas.jpg',\n",
       "   'https://aruodas-img.dgn.lt/object_62_110445627/kaunas-dainava-partizanu-g-2-kambariu-butas.jpg',\n",
       "   'https://aruodas-img.dgn.lt/object_62_110445633/kaunas-dainava-partizanu-g-2-kambariu-butas.jpg'],\n",
       "  'Namo_numeris': '78',\n",
       "  'Plotas': '44,25 m²',\n",
       "  'Kambarių_sk.': '2',\n",
       "  'Aukštas': '1',\n",
       "  'Aukštų_sk.': '5',\n",
       "  'Metai': '1969',\n",
       "  'Pastato_tipas': 'Blokinis',\n",
       "  'Šildymas': 'Centrinis',\n",
       "  'Įrengimas': 'Įrengtas',\n",
       "  'Nuoroda': 'www.aruodas.lt/1-3326353',\n",
       "  'Įdėtas': '2023-05-19',\n",
       "  'Redaguotas': '2023-05-19',\n",
       "  'Įsiminė': '3',\n",
       "  'Peržiūrėjo': '300/51 (iš viso/šiandien)'}]"
      ]
     },
     "execution_count": 4,
     "metadata": {},
     "output_type": "execute_result"
    }
   ],
   "source": [
    "properties"
   ]
  },
  {
   "cell_type": "code",
   "execution_count": 5,
   "metadata": {},
   "outputs": [],
   "source": [
    "html = get_html(urls[0])"
   ]
  },
  {
   "cell_type": "code",
   "execution_count": null,
   "metadata": {},
   "outputs": [],
   "source": []
  }
 ],
 "metadata": {
  "kernelspec": {
   "display_name": "base",
   "language": "python",
   "name": "python3"
  },
  "language_info": {
   "codemirror_mode": {
    "name": "ipython",
    "version": 3
   },
   "file_extension": ".py",
   "mimetype": "text/x-python",
   "name": "python",
   "nbconvert_exporter": "python",
   "pygments_lexer": "ipython3",
   "version": "3.9.16"
  },
  "orig_nbformat": 4
 },
 "nbformat": 4,
 "nbformat_minor": 2
}
