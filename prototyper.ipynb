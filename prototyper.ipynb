{
 "cells": [
  {
   "cell_type": "code",
   "execution_count": 1,
   "metadata": {},
   "outputs": [],
   "source": [
    "import undetected_chromedriver as uc\n",
    "import re\n",
    "from datetime import datetime\n"
   ]
  },
  {
   "cell_type": "code",
   "execution_count": 2,
   "metadata": {},
   "outputs": [],
   "source": [
    "url = 'https://www.aruodas.lt/butai-vilniuje-santariskese-dangerucio-g-naujas-pilnai-irengtas-butas-i-kuri-gali-1-3305167/'"
   ]
  },
  {
   "cell_type": "code",
   "execution_count": 3,
   "metadata": {},
   "outputs": [],
   "source": [
    "def get_html(url):\n",
    "    options = uc.ChromeOptions()\n",
    "    options.add_argument('--headless')\n",
    "    with uc.Chrome(options=options) as driver:\n",
    "        driver.get(url)\n",
    "        html = driver.page_source\n",
    "    return html\n"
   ]
  },
  {
   "cell_type": "code",
   "execution_count": 18,
   "metadata": {},
   "outputs": [],
   "source": [
    "def text_strip_list(element_list):\n",
    "    return [element.text_content().strip() for element in element_list]\n",
    "\n",
    "def while_replace(string):\n",
    "    while '  ' in string:\n",
    "        string = string.replace('  ', ' ')\n",
    "\n",
    "    return string"
   ]
  },
  {
   "cell_type": "code",
   "execution_count": 5,
   "metadata": {},
   "outputs": [],
   "source": [
    "source = get_html(url)"
   ]
  },
  {
   "cell_type": "code",
   "execution_count": 6,
   "metadata": {},
   "outputs": [],
   "source": [
    "# parse html with lxml\n",
    "from lxml import html\n",
    "\n",
    "tree = html.fromstring(source)"
   ]
  },
  {
   "cell_type": "code",
   "execution_count": 7,
   "metadata": {},
   "outputs": [
    {
     "data": {
      "text/plain": [
       "'199 000 €'"
      ]
     },
     "execution_count": 7,
     "metadata": {},
     "output_type": "execute_result"
    }
   ],
   "source": [
    "tree.body.find_class('price-eur')[0].text.strip()"
   ]
  },
  {
   "cell_type": "code",
   "execution_count": 8,
   "metadata": {},
   "outputs": [
    {
     "data": {
      "text/plain": [
       "'\\n                        Pastato energijos suvartojimo klasė:\\n                    '"
      ]
     },
     "execution_count": 8,
     "metadata": {},
     "output_type": "execute_result"
    }
   ],
   "source": [
    "# class obj-details dt:value name, dd:value\n",
    "tree.body.find_class('obj-details')[0].findall('dt')[-5].text"
   ]
  },
  {
   "cell_type": "code",
   "execution_count": 33,
   "metadata": {},
   "outputs": [
    {
     "data": {
      "text/plain": [
       "{'Namo numeris:': '31',\n",
       " 'Buto numeris:': '8',\n",
       " 'Plotas:': '55,81 m²',\n",
       " 'Kambarių sk.:': '2',\n",
       " 'Aukštas:': '3',\n",
       " 'Aukštų sk.:': '4',\n",
       " 'Metai:': '2021',\n",
       " 'Pastato tipas:': 'Mūrinis',\n",
       " 'Šildymas:': 'Elektra, aeroterminis',\n",
       " 'Įrengimas:': 'Įrengtas',\n",
       " 'Pastato energijos suvartojimo klasė:': 'A++',\n",
       " 'Misc': ['Aukštos lubos',\n",
       "  'Nauja kanalizacija',\n",
       "  'Nauja elektros instaliacija',\n",
       "  'Uždaras kiemas',\n",
       "  'Internetas',\n",
       "  'Kabelinė televizija',\n",
       "  'Virtuvė sujungta su kambariu',\n",
       "  'Balkonas',\n",
       "  'Kondicionierius',\n",
       "  'Skalbimo mašina',\n",
       "  'Su baldais',\n",
       "  'Šaldytuvas',\n",
       "  'Virtuvės komplektas',\n",
       "  'Viryklė',\n",
       "  'Plastikiniai vamzdžiai',\n",
       "  'Indaplovė',\n",
       "  'Dušo kabina',\n",
       "  'Rekuperacinė sistema',\n",
       "  'Šarvuotos durys',\n",
       "  'Kodinė laiptinės spyna'],\n",
       " 'Description': 'NAUJAS PILNAI ĮRENGTAS BUTAS, Į KURĮ GALI ĮSIKELTI JAU ŠIANDIEN!\\n\\nParduodamas jaukiai ir stilingai įrengtas 55.81 kv. m dviejų kambarių butas itin ekonomiškame A++ energinio naudingumo name, kurio langai orientuoti į pietų bei rytų puses su erdviu (8 kv. m) balkonu į rytinę pusę. Aukštos lubos, visi langai vitrininiai, butas parduodamas su išmaniu, nuotoliniu būdu valdomu japonų firmos MITSUBISHI kondicionieriumi bei itin aukštos klasės pasyviam namui skirtu drėgmę sulaikančiu vokišku rekuperatoriumi ZEHNDER CLIMOS F 200 ECO.\\n\\nGALERIJOJE PATEIKTOS NUOTRAUKOS REALIAI ĮRENGTO BUTO!\\n\\nKviečiame atvykti apžiūrai parduodamų butų iš anksto suderintu laiku. Butų apžiūros vyksta ir savaitgaliais, o taip pat ir po darbo valandų.\\n\\n\\nDaugiau informacijos - www.naujosiossantariskes.lt\\n\\nAPIE PROJEKTĄ\\n\\nNAUJOSIOS SANTARIŠKĖS – tai išskirtinai erdvaus būsto mažaaukščiuose daugiabučiuose namuose statybos pavyzdys. Šiuolaikiški, išmanūs, aplinką tausojantys sprendimai, nuotoliniu būdu valdomas oro kondicionierius, rekuperacinė sistema bei saulės fotovoltinės elektrinės užtikrina komfortišką bei gamtai draugišką būsto valdymą ir padeda pasiekti statinių A++ energinio naudingumo klasę.\\n\\n5,3 ha dydžio teritoriją užimantis aptvertas kvartalas suprojektuotas ,,alėjų principu”. Didžiulis dėmesys skirtas žaliųjų bei poilsio zonų oazėms: kvartale planuojama pasodinti virš 700 suaugusių medžių, o aplinkos infrastruktūra sukurta taip, kad būtų galima patekti į bet kurį kvartalo namą kaip atvykus automobiliu, taip ir atėjus pėsčiomis. Erdvioje automobilių parkavimo aikštelėje įrengėme stoginių, yra ir elektromobiliams įkrauti skirtų stotelių. Dalis kvartalui būtinosios elektros energijos bus sugeneruota iš atsinaujinančių energijos išteklių – ant namų stogų įrengtos fotovoltinės saulės elektrinės.\\n\\nNedidelis, vos 19% siekiantis sklypų užstatymo tankis (leidžiamas iki 60%) bei vos 47% siekiantis užstatymo intensyvumas (leidžiamas iki 160%) žalumos gausioje aplinkoje, autentiškos skulptūros kvartalo žiedinio tipo sankryžose, gausi mažoji architektūra (aptverta teritorija, tamsiu paros metu apšviečiama stilingais LED žibintais, suoliukai, pasivaikščiojimui po kvartalą skirti trinkelėmis grįsti takeliai), vaikų žaidimo ir sporto aikštelės, o galiausiai neišvengiamu bendruomenės traukos centru tapsianti bendro naudojimo pavėsinė prie fontano, greta didžiojo sporto (bei vaikų žaidimo) aikštyno, sukuria tarsi atskiro kurortinio miestelio atmosferą.\\n\\nMes stengiamės, jog Naujųjų Santariškių gyventojams būtų gera ir smagu leisti laiką ne tik namuose, bet ir šalia jų, gamtos apsuptyje pažaisti vaikams ar pasportuoti, pabendrauti su kaimynais prie fontano ar tiesiog pasivaikščioti, pabūti su savimi harmoningoje aplinkoje, o gal pasitikti ar palydėti saulę.\\n\\nVIETA\\n\\nNAUJOSIOS SANTARIŠKĖS yra prestižinėje Verkių seniūnijoje, šiaurinėje Santariškių mikrorajono pusėje tarp Santariškių gatvės ir Molėtų plento pradžios. 5,3 ha dydžio teritoriją užima nauja mažaaukščių daugiabučių gyvenamųjų namų gyvenvietė, tarpstanti gamtos apsuptyje, kiek atokiau nuo miesto šurmulio, bet ne per toli. Netoliese dunksančiame Vanaginės miške įsteigtas Vanaginės geomorfologinis draustinis, o į pietryčius nuo kvartalo – Verkių miškas. Šiaurės rytų pusėje – Gulbinų ežerai.\\n\\nPRIVALUMAI (SPRENDIMAI)\\n\\nProjektuodami NAUJŲJŲ SANTARIŠKIŲ kvartalą siekėme sukurti išskirtinai erdvų miesto būstą harmoningai derantį su gamta, maksimaliai sumažinti jo eksploatacines išlaidas bei užtikrinti, jog būtų tiesiog patogu ir jauku gyventi, todėl džiaugiamės galėdami pasiūlyti Jums šiuos sprendimus:\\n• Butų dydis: nuo 57,6 iki 74 m² dviejų – trijių kamb. butai;\\n• A++ energinio naudingumo klasė;\\n• Saulės fotovoltinės elektrinės, kurių sugeneruota elektros energija skiriama kvartalo bendrųjų reikmių išlaikymo sąnaudoms mažinti;\\n• Išmanus, nuotoliniu būdu valdomas japonų firmos MITSUBISHI kondicionierius (šilumos siurblys);\\n• Rekuperacijos sistema;\\n• Laisvas vidinis buto išplanavimas (galimybė įsirengti 3 kambarius ir 57,6 m² arba 59 m² butuose);\\n• Išmanus (nuotoliniu būdu reguliuojamas) autonominis šildymas;\\n• Visi butų langai ,,vitrininiai”;\\n• Buto lubų aukštis – apie 280 cm;\\n• Balkonų dydis nuo 8 iki 10 m², balkonų plotis - 170–180 cm;\\n• I-ojo aukšto gyventojams – terasos su priskirtu privačiu, tvorele atribotu kiemeliu, kurio plotas - nuo 20 iki 200 m²;\\n• Erdvios laiptinės (laiptinėse akustinės lubos, laiptai su granito apdaila);\\n• Visose sienose tarp butų, butų ir laiptinių, o taip pat ir perdangose tarp namo aukštų įrengtas papildomas akmens vatos izoliacinis sluoksnis papildomam šilumos sulaikymui bei akustiniam komfortui pasiekti;\\n• Kiekvieno namo I-jame aukšte po 5 - 9 sandėliukus (nuo 2,85 iki 5,7 m² dydžio);\\n• Erdvi automobilių parkavimo aikštelė (yra parkavimo vietų ir su stoginėmis, elektromobilių įkrovimo galimybė);\\n• Žiedinės sankryžos sklandžiam eismui užtikrinti;\\n• Erdvios, suaugusiais medžiais apsodintos (kvartale planuojama pasodinti apie 700 suaugusių medžių) žaliosios zonos (apie 30 % viso kvartalo teritorijos), tarpai tarp artimiausių namų – nuo 15 iki 40 m;\\n• Mažas, vos apie 19% siekiantis sklypų užstatymo tankis (leidžiamas iki 60%) bei tik apie 47% siekiantis užstatymo intensyvumas (leidžiamas iki 160%);\\n• Aptverta teritorija;\\n• Grindinio fontanas;\\n• Laisvalaikio zonos – 5 vaikų žaidimo aikštelės, 3 sporto aikštelės, bendro naudojimo pavėsinė greta didžiojo sporto aikštyno;\\n• Naujųjų Santariškių kvartalas gamtos apsuptyje: netoliese Vanaginės, Verkių miškai, Gulbinų ežerai;\\n• Aukštos klasės fasado apdailos medžiagos: klinkerio plytelės, termo mediena bei grūdintas stiklas;\\n• Galimybė įsigyti butą ir su pilna apdaila.\\n\\nVIRTUALI BUTO APŽIŪRA\\n\\nApsilankykite virtualiojoje mūsų parduodamo buto apžiūroje, kur galite pasivaikščioti ne tik po patį butą, bet ir pasižvalgyti pro langus, o spustelėję ant tam skirtų ikonėlių – pamatyti vizualiai skirtingus apdailos medžiagų, baldų, spalvinių bei kitų pilnos apdailos sprendimų variantus:\\nhttps://3darchitects.lt/santariskes/butas1/\\n\\nTarpininkų paslaugos nepageidaujamos',\n",
       " 'Phone': '+370 659 11175',\n",
       " 'Broker': True}"
      ]
     },
     "execution_count": 33,
     "metadata": {},
     "output_type": "execute_result"
    }
   ],
   "source": [
    "property_info_values = text_strip_list(tree.body.find_class('obj-details')[0].findall('dd'))\n",
    "property_info_value_names = text_strip_list(tree.body.find_class('obj-details')[0].findall('dt'))\n",
    "\n",
    "property_info_values = [i for i in property_info_values if i != '']\n",
    "property_info_value_names = property_info_value_names[:len(property_info_values)]\n",
    "\n",
    "property_info = dict(zip(property_info_value_names, property_info_values))\n",
    "property_info['Misc'] = text_strip_list(tree.body.find_class('special-comma'))\n",
    "property_info['Description'] = tree.findall('.//*[@id=\"collapsedText\"]')[0].text_content().strip()\n",
    "try:\n",
    "    property_info['Phone'] = tree.find_class('phone_item_0')[0].text.strip()\n",
    "    property_info['Broker'] = True\n",
    "except:\n",
    "    property_info['Phone'] = tree.find_class('phone')[0].text\n",
    "    property_info['Broker'] = False\n",
    "\n",
    "del(property_info['Ypatybės:'])\n",
    "del(property_info['Papildomos patalpos:'])\n",
    "del(property_info['Papildoma įranga:'])\n",
    "del(property_info['Apsauga:'])\n",
    "\n",
    "property_info['Address'] = tree.find_class('obj-header-text')[0].text_content().strip()\n",
    "property_info['Address'] = re.split(', \\d+ kamb', property_info['Address'])[0]\n",
    "\n",
    "stats_names = text_strip_list(tree.find_class('obj-stats simple')[0].find('dl').findall('dt'))\n",
    "stats_values = text_strip_list(tree.find_class('obj-stats simple')[0].find('dl').findall('dd'))\n",
    "\n",
    "stats = dict(zip(stats_names, stats_values))\n",
    "property_info.update(stats)\n",
    "\n",
    "# add date scraped\n",
    "property_info['Date_scraped'] = datetime.now().strftime(\"%d/%m/%Y %H:%M:%S\")\n"
   ]
  },
  {
   "cell_type": "code",
   "execution_count": 38,
   "metadata": {},
   "outputs": [],
   "source": [
    "stats_names = text_strip_list(tree.find_class('obj-stats simple')[0].find('dl').findall('dt'))\n",
    "stats_values = text_strip_list(tree.find_class('obj-stats simple')[0].find('dl').findall('dd'))\n",
    "\n",
    "stats = dict(zip(stats_names, stats_values))\n",
    "property_info.update(stats)\n"
   ]
  },
  {
   "cell_type": "code",
   "execution_count": 40,
   "metadata": {},
   "outputs": [
    {
     "data": {
      "text/plain": [
       "{'Namo numeris:': '31',\n",
       " 'Buto numeris:': '8',\n",
       " 'Plotas:': '55,81 m²',\n",
       " 'Kambarių sk.:': '2',\n",
       " 'Aukštas:': '3',\n",
       " 'Aukštų sk.:': '4',\n",
       " 'Metai:': '2021',\n",
       " 'Pastato tipas:': 'Mūrinis',\n",
       " 'Šildymas:': 'Elektra, aeroterminis',\n",
       " 'Įrengimas:': 'Įrengtas',\n",
       " 'Pastato energijos suvartojimo klasė:': 'A++',\n",
       " 'Misc': ['Aukštos lubos',\n",
       "  'Nauja kanalizacija',\n",
       "  'Nauja elektros instaliacija',\n",
       "  'Uždaras kiemas',\n",
       "  'Internetas',\n",
       "  'Kabelinė televizija',\n",
       "  'Virtuvė sujungta su kambariu',\n",
       "  'Balkonas',\n",
       "  'Kondicionierius',\n",
       "  'Skalbimo mašina',\n",
       "  'Su baldais',\n",
       "  'Šaldytuvas',\n",
       "  'Virtuvės komplektas',\n",
       "  'Viryklė',\n",
       "  'Plastikiniai vamzdžiai',\n",
       "  'Indaplovė',\n",
       "  'Dušo kabina',\n",
       "  'Rekuperacinė sistema',\n",
       "  'Šarvuotos durys',\n",
       "  'Kodinė laiptinės spyna'],\n",
       " 'Description': 'NAUJAS PILNAI ĮRENGTAS BUTAS, Į KURĮ GALI ĮSIKELTI JAU ŠIANDIEN!\\n\\nParduodamas jaukiai ir stilingai įrengtas 55.81 kv. m dviejų kambarių butas itin ekonomiškame A++ energinio naudingumo name, kurio langai orientuoti į pietų bei rytų puses su erdviu (8 kv. m) balkonu į rytinę pusę. Aukštos lubos, visi langai vitrininiai, butas parduodamas su išmaniu, nuotoliniu būdu valdomu japonų firmos MITSUBISHI kondicionieriumi bei itin aukštos klasės pasyviam namui skirtu drėgmę sulaikančiu vokišku rekuperatoriumi ZEHNDER CLIMOS F 200 ECO.\\n\\nGALERIJOJE PATEIKTOS NUOTRAUKOS REALIAI ĮRENGTO BUTO!\\n\\nKviečiame atvykti apžiūrai parduodamų butų iš anksto suderintu laiku. Butų apžiūros vyksta ir savaitgaliais, o taip pat ir po darbo valandų.\\n\\n\\nDaugiau informacijos - www.naujosiossantariskes.lt\\n\\nAPIE PROJEKTĄ\\n\\nNAUJOSIOS SANTARIŠKĖS – tai išskirtinai erdvaus būsto mažaaukščiuose daugiabučiuose namuose statybos pavyzdys. Šiuolaikiški, išmanūs, aplinką tausojantys sprendimai, nuotoliniu būdu valdomas oro kondicionierius, rekuperacinė sistema bei saulės fotovoltinės elektrinės užtikrina komfortišką bei gamtai draugišką būsto valdymą ir padeda pasiekti statinių A++ energinio naudingumo klasę.\\n\\n5,3 ha dydžio teritoriją užimantis aptvertas kvartalas suprojektuotas ,,alėjų principu”. Didžiulis dėmesys skirtas žaliųjų bei poilsio zonų oazėms: kvartale planuojama pasodinti virš 700 suaugusių medžių, o aplinkos infrastruktūra sukurta taip, kad būtų galima patekti į bet kurį kvartalo namą kaip atvykus automobiliu, taip ir atėjus pėsčiomis. Erdvioje automobilių parkavimo aikštelėje įrengėme stoginių, yra ir elektromobiliams įkrauti skirtų stotelių. Dalis kvartalui būtinosios elektros energijos bus sugeneruota iš atsinaujinančių energijos išteklių – ant namų stogų įrengtos fotovoltinės saulės elektrinės.\\n\\nNedidelis, vos 19% siekiantis sklypų užstatymo tankis (leidžiamas iki 60%) bei vos 47% siekiantis užstatymo intensyvumas (leidžiamas iki 160%) žalumos gausioje aplinkoje, autentiškos skulptūros kvartalo žiedinio tipo sankryžose, gausi mažoji architektūra (aptverta teritorija, tamsiu paros metu apšviečiama stilingais LED žibintais, suoliukai, pasivaikščiojimui po kvartalą skirti trinkelėmis grįsti takeliai), vaikų žaidimo ir sporto aikštelės, o galiausiai neišvengiamu bendruomenės traukos centru tapsianti bendro naudojimo pavėsinė prie fontano, greta didžiojo sporto (bei vaikų žaidimo) aikštyno, sukuria tarsi atskiro kurortinio miestelio atmosferą.\\n\\nMes stengiamės, jog Naujųjų Santariškių gyventojams būtų gera ir smagu leisti laiką ne tik namuose, bet ir šalia jų, gamtos apsuptyje pažaisti vaikams ar pasportuoti, pabendrauti su kaimynais prie fontano ar tiesiog pasivaikščioti, pabūti su savimi harmoningoje aplinkoje, o gal pasitikti ar palydėti saulę.\\n\\nVIETA\\n\\nNAUJOSIOS SANTARIŠKĖS yra prestižinėje Verkių seniūnijoje, šiaurinėje Santariškių mikrorajono pusėje tarp Santariškių gatvės ir Molėtų plento pradžios. 5,3 ha dydžio teritoriją užima nauja mažaaukščių daugiabučių gyvenamųjų namų gyvenvietė, tarpstanti gamtos apsuptyje, kiek atokiau nuo miesto šurmulio, bet ne per toli. Netoliese dunksančiame Vanaginės miške įsteigtas Vanaginės geomorfologinis draustinis, o į pietryčius nuo kvartalo – Verkių miškas. Šiaurės rytų pusėje – Gulbinų ežerai.\\n\\nPRIVALUMAI (SPRENDIMAI)\\n\\nProjektuodami NAUJŲJŲ SANTARIŠKIŲ kvartalą siekėme sukurti išskirtinai erdvų miesto būstą harmoningai derantį su gamta, maksimaliai sumažinti jo eksploatacines išlaidas bei užtikrinti, jog būtų tiesiog patogu ir jauku gyventi, todėl džiaugiamės galėdami pasiūlyti Jums šiuos sprendimus:\\n• Butų dydis: nuo 57,6 iki 74 m² dviejų – trijių kamb. butai;\\n• A++ energinio naudingumo klasė;\\n• Saulės fotovoltinės elektrinės, kurių sugeneruota elektros energija skiriama kvartalo bendrųjų reikmių išlaikymo sąnaudoms mažinti;\\n• Išmanus, nuotoliniu būdu valdomas japonų firmos MITSUBISHI kondicionierius (šilumos siurblys);\\n• Rekuperacijos sistema;\\n• Laisvas vidinis buto išplanavimas (galimybė įsirengti 3 kambarius ir 57,6 m² arba 59 m² butuose);\\n• Išmanus (nuotoliniu būdu reguliuojamas) autonominis šildymas;\\n• Visi butų langai ,,vitrininiai”;\\n• Buto lubų aukštis – apie 280 cm;\\n• Balkonų dydis nuo 8 iki 10 m², balkonų plotis - 170–180 cm;\\n• I-ojo aukšto gyventojams – terasos su priskirtu privačiu, tvorele atribotu kiemeliu, kurio plotas - nuo 20 iki 200 m²;\\n• Erdvios laiptinės (laiptinėse akustinės lubos, laiptai su granito apdaila);\\n• Visose sienose tarp butų, butų ir laiptinių, o taip pat ir perdangose tarp namo aukštų įrengtas papildomas akmens vatos izoliacinis sluoksnis papildomam šilumos sulaikymui bei akustiniam komfortui pasiekti;\\n• Kiekvieno namo I-jame aukšte po 5 - 9 sandėliukus (nuo 2,85 iki 5,7 m² dydžio);\\n• Erdvi automobilių parkavimo aikštelė (yra parkavimo vietų ir su stoginėmis, elektromobilių įkrovimo galimybė);\\n• Žiedinės sankryžos sklandžiam eismui užtikrinti;\\n• Erdvios, suaugusiais medžiais apsodintos (kvartale planuojama pasodinti apie 700 suaugusių medžių) žaliosios zonos (apie 30 % viso kvartalo teritorijos), tarpai tarp artimiausių namų – nuo 15 iki 40 m;\\n• Mažas, vos apie 19% siekiantis sklypų užstatymo tankis (leidžiamas iki 60%) bei tik apie 47% siekiantis užstatymo intensyvumas (leidžiamas iki 160%);\\n• Aptverta teritorija;\\n• Grindinio fontanas;\\n• Laisvalaikio zonos – 5 vaikų žaidimo aikštelės, 3 sporto aikštelės, bendro naudojimo pavėsinė greta didžiojo sporto aikštyno;\\n• Naujųjų Santariškių kvartalas gamtos apsuptyje: netoliese Vanaginės, Verkių miškai, Gulbinų ežerai;\\n• Aukštos klasės fasado apdailos medžiagos: klinkerio plytelės, termo mediena bei grūdintas stiklas;\\n• Galimybė įsigyti butą ir su pilna apdaila.\\n\\nVIRTUALI BUTO APŽIŪRA\\n\\nApsilankykite virtualiojoje mūsų parduodamo buto apžiūroje, kur galite pasivaikščioti ne tik po patį butą, bet ir pasižvalgyti pro langus, o spustelėję ant tam skirtų ikonėlių – pamatyti vizualiai skirtingus apdailos medžiagų, baldų, spalvinių bei kitų pilnos apdailos sprendimų variantus:\\nhttps://3darchitects.lt/santariskes/butas1/\\n\\nTarpininkų paslaugos nepageidaujamos',\n",
       " 'Phone': '+370 659 11175',\n",
       " 'Broker': True,\n",
       " 'Nuoroda': 'www.aruodas.lt/1-3305167',\n",
       " 'Įdėtas': '2023-03-16',\n",
       " 'Redaguotas': '2023-03-26',\n",
       " 'Įsiminė': '15',\n",
       " 'Peržiūrėjo': '2095/329 (iš viso/šiandien)'}"
      ]
     },
     "execution_count": 40,
     "metadata": {},
     "output_type": "execute_result"
    }
   ],
   "source": [
    "property_info"
   ]
  },
  {
   "cell_type": "code",
   "execution_count": 52,
   "metadata": {},
   "outputs": [],
   "source": [
    "property_info['Address'] = tree.find_class('obj-header-text')[0].text_content().strip()\n",
    "property_info['Address'] = re.split(', \\d+ kamb', property_info['Address'])[0]\n"
   ]
  },
  {
   "cell_type": "code",
   "execution_count": 71,
   "metadata": {},
   "outputs": [
    {
     "data": {
      "text/plain": [
       "{None,\n",
       " 'https://3darchitects.lt/santariskes/butas1/',\n",
       " 'https://aruodas-img.dgn.lt/object_62_109150065/vilnius-santariskes-dangerucio-g-2.jpg',\n",
       " 'https://aruodas-img.dgn.lt/object_62_109150067/vilnius-santariskes-dangerucio-g-2.jpg',\n",
       " 'https://aruodas-img.dgn.lt/object_62_109150075/vilnius-santariskes-dangerucio-g-2.jpg',\n",
       " 'https://aruodas-img.dgn.lt/object_62_109150081/vilnius-santariskes-dangerucio-g-2.jpg',\n",
       " 'https://aruodas-img.dgn.lt/object_62_109150085/vilnius-santariskes-dangerucio-g-2.jpg',\n",
       " 'https://aruodas-img.dgn.lt/object_62_109150087/vilnius-santariskes-dangerucio-g-2.jpg',\n",
       " 'https://aruodas-img.dgn.lt/object_62_109150089/vilnius-santariskes-dangerucio-g-2.jpg',\n",
       " 'https://aruodas-img.dgn.lt/object_62_109150093/vilnius-santariskes-dangerucio-g-2.jpg',\n",
       " 'https://aruodas-img.dgn.lt/object_62_109150095/vilnius-santariskes-dangerucio-g-2.jpg',\n",
       " 'https://aruodas-img.dgn.lt/object_62_109150099/vilnius-santariskes-dangerucio-g-2.jpg',\n",
       " 'https://aruodas-img.dgn.lt/object_62_109150109/vilnius-santariskes-dangerucio-g-2.jpg',\n",
       " 'https://aruodas-img.dgn.lt/object_62_109150111/vilnius-santariskes-dangerucio-g-2.jpg',\n",
       " 'https://aruodas-img.dgn.lt/object_62_109150131/vilnius-santariskes-dangerucio-g-2.jpg',\n",
       " 'https://aruodas-img.dgn.lt/object_62_109150141/vilnius-santariskes-dangerucio-g-2.jpg',\n",
       " 'https://aruodas-img.dgn.lt/object_62_109150153/vilnius-santariskes-dangerucio-g-2.jpg',\n",
       " 'https://aruodas-img.dgn.lt/object_62_109150163/vilnius-santariskes-dangerucio-g-2.jpg',\n",
       " 'https://aruodas-img.dgn.lt/object_62_109150165/vilnius-santariskes-dangerucio-g-2.jpg',\n",
       " 'https://aruodas-img.dgn.lt/object_62_109150167/vilnius-santariskes-dangerucio-g-2.jpg',\n",
       " 'https://aruodas-img.dgn.lt/object_62_109150173/vilnius-santariskes-dangerucio-g-2.jpg',\n",
       " 'https://aruodas-img.dgn.lt/object_62_109150269/vilnius-santariskes-dangerucio-g-2.jpg',\n",
       " 'https://aruodas-img.dgn.lt/object_62_109150271/vilnius-santariskes-dangerucio-g-2.jpg',\n",
       " 'https://aruodas-img.dgn.lt/object_62_109150661/vilnius-santariskes-dangerucio-g-2.jpg',\n",
       " 'https://aruodas-img.dgn.lt/object_62_109150663/vilnius-santariskes-dangerucio-g-2.jpg',\n",
       " 'https://aruodas-img.dgn.lt/object_62_109150665/vilnius-santariskes-dangerucio-g-2.jpg',\n",
       " 'https://aruodas-img.dgn.lt/object_62_109150667/vilnius-santariskes-dangerucio-g-2.jpg',\n",
       " 'https://aruodas-img.dgn.lt/object_62_109150815/vilnius-santariskes-dangerucio-g-2.jpg',\n",
       " 'https://aruodas-img.dgn.lt/object_62_109150835/vilnius-santariskes-dangerucio-g-2.jpg',\n",
       " 'https://aruodas-img.dgn.lt/object_62_109150843/vilnius-santariskes-dangerucio-g-2.jpg',\n",
       " 'https://maps.google.lt?saddr=Current+Location&daddr=(54.779913, 25.281485)',\n",
       " 'https://www.google.com/maps/@?api=1&map_action=pano&viewpoint=54.779913,25.281485',\n",
       " 'https://www.google.com/maps/search/?api=1&query=54.779913%2C25.281485',\n",
       " 'javascript:void(0);'}"
      ]
     },
     "execution_count": 71,
     "metadata": {},
     "output_type": "execute_result"
    }
   ],
   "source": [
    "photos = tree.find_class('link-obj-thumb')\n",
    "photos = [photo.get('href') for photo in photos]\n",
    "set(photos)\n"
   ]
  },
  {
   "cell_type": "code",
   "execution_count": null,
   "metadata": {},
   "outputs": [],
   "source": []
  },
  {
   "cell_type": "code",
   "execution_count": null,
   "metadata": {},
   "outputs": [],
   "source": []
  }
 ],
 "metadata": {
  "kernelspec": {
   "display_name": "base",
   "language": "python",
   "name": "python3"
  },
  "language_info": {
   "codemirror_mode": {
    "name": "ipython",
    "version": 3
   },
   "file_extension": ".py",
   "mimetype": "text/x-python",
   "name": "python",
   "nbconvert_exporter": "python",
   "pygments_lexer": "ipython3",
   "version": "3.9.13"
  },
  "orig_nbformat": 4
 },
 "nbformat": 4,
 "nbformat_minor": 2
}
