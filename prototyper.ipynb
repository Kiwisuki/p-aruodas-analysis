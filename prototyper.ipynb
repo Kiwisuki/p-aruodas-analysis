{
 "cells": [
  {
   "cell_type": "code",
   "execution_count": 1,
   "metadata": {},
   "outputs": [],
   "source": [
    "import undetected_chromedriver as uc\n",
    "import re\n",
    "from datetime import datetime\n"
   ]
  },
  {
   "cell_type": "code",
   "execution_count": 2,
   "metadata": {},
   "outputs": [],
   "source": [
    "url = 'https://www.aruodas.lt/butai-vilniuje-santariskese-dangerucio-g-naujas-pilnai-irengtas-butas-i-kuri-gali-1-3305167/'"
   ]
  },
  {
   "cell_type": "code",
   "execution_count": 3,
   "metadata": {},
   "outputs": [],
   "source": [
    "def get_html(url):\n",
    "    options = uc.ChromeOptions()\n",
    "    options.add_argument('--headless')\n",
    "    with uc.Chrome(options=options) as driver:\n",
    "        driver.get(url)\n",
    "        html = driver.page_source\n",
    "    return html"
   ]
  },
  {
   "cell_type": "code",
   "execution_count": 4,
   "metadata": {},
   "outputs": [],
   "source": [
    "def extract_element(tree, class_name, index=0):\n",
    "    \"\"\"\n",
    "    Extract the text content of an HTML element with the given class name.\n",
    "    Returns an empty string if the element does not exist.\n",
    "    \"\"\"\n",
    "    elements = tree.body.find_class(class_name)\n",
    "    if elements:\n",
    "        return elements[index].text.strip()\n",
    "    else:\n",
    "        return \"\"\n",
    "\n",
    "def extract_table(tree):\n",
    "    \"\"\"\n",
    "    Extract the table information from the HTML tree.\n",
    "    Returns a dictionary containing the table information.\n",
    "    \"\"\"\n",
    "    table_dict = {}\n",
    "    table_elements = tree.body.find_class('obj-details')[0].findall('dd')\n",
    "    table_names = text_strip_list(tree.body.find_class('obj-details')[0].findall('dt'))\n",
    "    table_names = [name for name in table_names if name != '']\n",
    "    for i, name in enumerate(table_names):\n",
    "        table_dict[name] = table_elements[i].text.strip()\n",
    "    return table_dict\n",
    "\n",
    "def extract_ad_stats(tree):\n",
    "    \"\"\"\n",
    "    Extract the ad stats information from the HTML tree.\n",
    "    Returns a dictionary containing the ad stats information.\n",
    "    \"\"\"\n",
    "    ad_stats_dict = {}\n",
    "    ad_stats_names = text_strip_list(tree.find_class('obj-stats simple')[0].find('dl').findall('dt'))\n",
    "    ad_stats_values = text_strip_list(tree.find_class('obj-stats simple')[0].find('dl').findall('dd'))\n",
    "    for i, name in enumerate(ad_stats_names):\n",
    "        ad_stats_dict[name] = ad_stats_values[i]\n",
    "    return ad_stats_dict\n",
    "\n",
    "\n",
    "def text_strip_list(element_list):\n",
    "    return [element.text_content().strip() for element in element_list]\n",
    "\n",
    "\n",
    "def while_replace(string):\n",
    "    while '  ' in string:\n",
    "        string = string.replace('  ', ' ')\n",
    "\n",
    "    return string\n",
    "\n",
    "def extract_thumbs(tree):\n",
    "    thumbs = tree.find_class('link-obj-thumb')\n",
    "    thumbs = [thumb.get('href') for thumb in thumbs]\n",
    "    thumbs = set(thumbs)\n",
    "    thumbs.discard(None)\n",
    "    return thumbs\n",
    "\n",
    "def extract_photos(tree):\n",
    "    urls = extract_thumbs(tree)\n",
    "    photos = []\n",
    "    for url in urls:\n",
    "        if 'img.dgn' in url:\n",
    "            photos.append(url)\n",
    "    return photos\n",
    "\n",
    "\n",
    "def extract_coordinates(tree):\n",
    "    urls = extract_thumbs(tree)\n",
    "    for url in urls:\n",
    "        if 'maps.google' in url:\n",
    "            return eval(url.split('=')[2])\n",
    "        \n",
    "\n",
    "def extract_number(tree):\n",
    "    try:\n",
    "        phone = extract_element(tree, 'phone_item_0')\n",
    "        broker = True\n",
    "    except Exception as e:\n",
    "        print(e)\n",
    "        phone = extract_element(tree, 'phone')\n",
    "        broker = False\n",
    "    return phone, broker\n",
    "\n",
    "def extract_address(tree):\n",
    "    address = tree.find_class('obj-header-text')[0].text_content().strip()\n",
    "    address = re.split(', \\d+ kamb', address)[0]\n",
    "    return address\n",
    "\n"
   ]
  },
  {
   "cell_type": "code",
   "execution_count": 5,
   "metadata": {},
   "outputs": [],
   "source": [
    "source = get_html(url)"
   ]
  },
  {
   "cell_type": "code",
   "execution_count": 6,
   "metadata": {},
   "outputs": [],
   "source": [
    "# parse html with lxml\n",
    "from lxml import html"
   ]
  },
  {
   "cell_type": "code",
   "execution_count": 7,
   "metadata": {},
   "outputs": [
    {
     "data": {
      "text/plain": [
       "''"
      ]
     },
     "execution_count": 7,
     "metadata": {},
     "output_type": "execute_result"
    }
   ],
   "source": [
    "tree = html.fromstring(source)\n",
    "\n",
    "property_info = {\n",
    "    'Price': extract_element(tree, 'price-eur'),\n",
    "    'Address': extract_address(tree),\n",
    "    'Phone': extract_number(tree)[0],\n",
    "    'Broker': extract_number(tree)[1],\n",
    "    'Coordinates': extract_coordinates(tree),\n",
    "    'Date_scraped': datetime.now().strftime(\"%d/%m/%Y %H:%M:%S\"),\n",
    "    'Description': extract_element(tree, 'collapsedText'),\n",
    "    'Misc': text_strip_list(tree.body.find_class('special-comma')),\n",
    "    'Photos': extract_photos(tree)\n",
    "}\n",
    "\n",
    "ad_table = extract_table(tree)\n",
    "ad_stats = extract_ad_stats(tree)\n",
    "\n",
    "property_info.update(ad_table)\n",
    "property_info.update(ad_stats)\n",
    "\n",
    "property_info.pop('Ypatybės:', None)\n",
    "property_info.pop('Papildomos patalpos:', None)\n",
    "property_info.pop('Papildoma įranga:', None)\n",
    "property_info.pop('Apsauga:', None)\n"
   ]
  }
 ],
 "metadata": {
  "kernelspec": {
   "display_name": "base",
   "language": "python",
   "name": "python3"
  },
  "language_info": {
   "codemirror_mode": {
    "name": "ipython",
    "version": 3
   },
   "file_extension": ".py",
   "mimetype": "text/x-python",
   "name": "python",
   "nbconvert_exporter": "python",
   "pygments_lexer": "ipython3",
   "version": "3.9.13"
  },
  "orig_nbformat": 4
 },
 "nbformat": 4,
 "nbformat_minor": 2
}
