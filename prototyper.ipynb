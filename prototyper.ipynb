{
 "cells": [
  {
   "cell_type": "code",
   "execution_count": 1,
   "metadata": {},
   "outputs": [],
   "source": [
    "import undetected_chromedriver as uc\n",
    "import re\n",
    "from datetime import datetime\n",
    "from lxml import html"
   ]
  },
  {
   "cell_type": "code",
   "execution_count": 2,
   "metadata": {},
   "outputs": [],
   "source": [
    "from scraping_tools import get_html, scrape_property\n",
    "from parsing_tools import extract_thumbs"
   ]
  },
  {
   "cell_type": "code",
   "execution_count": 3,
   "metadata": {},
   "outputs": [],
   "source": [
    "urls = ['https://www.aruodas.lt/butai-vilniuje-snipiskese-kalvariju-g-foto-yra-vizualizacija-parduodamas-geras-1-3308709/',\n",
    "        'https://www.aruodas.lt/butai-vilniuje-snipiskese-apkasu-g-parduodamas-k-butas-kv-a-yra-1-3295912/',\n",
    "'https://www.aruodas.lt/butai-vilniuje-fabijoniskese-s-staneviciaus-g-parduodamas-jaukus-suremontuotas-k-butas-1-3297050/',\n",
    "'https://www.aruodas.lt/butai-vilniuje-senamiestyje-saltiniu-g-parduodamos-negyvenamos-patalpos-buvusi-1-3306541/',\n",
    "'https://www.aruodas.lt/butai-trakuose-lentvario-m-fabriko-g-parduodamas-izoliuotu-kambariu-butas-su-1-3253535/?utm_source=aruodas&utm_medium=ad&utm_campaign=vip-other',\n",
    "]\n",
    "\n",
    "properties = []\n",
    "\n",
    "for url in urls:\n",
    "    properties.append(scrape_property(url))\n"
   ]
  },
  {
   "cell_type": "code",
   "execution_count": null,
   "metadata": {},
   "outputs": [],
   "source": []
  }
 ],
 "metadata": {
  "kernelspec": {
   "display_name": "base",
   "language": "python",
   "name": "python3"
  },
  "language_info": {
   "codemirror_mode": {
    "name": "ipython",
    "version": 3
   },
   "file_extension": ".py",
   "mimetype": "text/x-python",
   "name": "python",
   "nbconvert_exporter": "python",
   "pygments_lexer": "ipython3",
   "version": "3.9.13"
  },
  "orig_nbformat": 4
 },
 "nbformat": 4,
 "nbformat_minor": 2
}
